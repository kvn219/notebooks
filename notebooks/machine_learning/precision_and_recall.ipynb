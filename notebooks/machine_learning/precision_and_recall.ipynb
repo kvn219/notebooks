{
 "cells": [
  {
   "cell_type": "markdown",
   "metadata": {},
   "source": [
    "# Precision and recall\n",
    "\n",
    "Source: [Wikipedia](https://en.wikipedia.org/wiki/Precision_and_recall)\n"
   ]
  },
  {
   "cell_type": "markdown",
   "metadata": {},
   "source": [
    "## Precision"
   ]
  },
  {
   "cell_type": "markdown",
   "metadata": {
    "ExecuteTime": {
     "end_time": "2018-01-06T16:04:31.652143Z",
     "start_time": "2018-01-06T16:04:31.647608Z"
    }
   },
   "source": [
    "$$\n",
    "\\mathbf{Precision} = \\frac{number\\ of\\ true\\ positives}{(number\\ of\\ true\\ positives\\ +\\ number\\ of\\ false\\ positives)}\n",
    "$$"
   ]
  },
  {
   "cell_type": "code",
   "execution_count": 1,
   "metadata": {
    "ExecuteTime": {
     "end_time": "2018-01-21T18:50:51.929282Z",
     "start_time": "2018-01-21T18:50:51.926433Z"
    }
   },
   "outputs": [],
   "source": [
    "def precision(tp, fp):\n",
    "    return tp/(tp + fp)"
   ]
  },
  {
   "cell_type": "markdown",
   "metadata": {},
   "source": [
    "## Recall\n",
    "\n",
    "Also known as true positive rate or sensitivity."
   ]
  },
  {
   "cell_type": "markdown",
   "metadata": {
    "ExecuteTime": {
     "end_time": "2018-01-06T16:05:59.642342Z",
     "start_time": "2018-01-06T16:05:59.637649Z"
    }
   },
   "source": [
    "$$\n",
    "\\mathbf{Recall} = \\frac{number\\ of\\ true\\ positives}{(number\\ of\\ true\\ positives\\ +\\ number\\ of\\ false\\ negatives)}\n",
    "$$"
   ]
  },
  {
   "cell_type": "code",
   "execution_count": 2,
   "metadata": {
    "ExecuteTime": {
     "end_time": "2018-01-21T18:50:51.933784Z",
     "start_time": "2018-01-21T18:50:51.931251Z"
    }
   },
   "outputs": [],
   "source": [
    "def recall(tp, fn):\n",
    "    return tp/(tp + fn)"
   ]
  },
  {
   "cell_type": "markdown",
   "metadata": {},
   "source": [
    "## F1 score \n",
    "\n",
    "The harmonic mean of precision and recall.\n",
    "\n",
    "$$\n",
    "\\mathbf{F1\\ score} = 2 * \\frac{precision * recall}{precision + recall}\n",
    "$$"
   ]
  },
  {
   "cell_type": "code",
   "execution_count": 3,
   "metadata": {
    "ExecuteTime": {
     "end_time": "2018-01-21T18:50:51.940871Z",
     "start_time": "2018-01-21T18:50:51.936108Z"
    }
   },
   "outputs": [],
   "source": [
    "def f1_score(tp, fp, fn):\n",
    "    p = precision(tp, fp)\n",
    "    r = recall(tp, fn)\n",
    "    return 2 * ((p * r)/(p + r))"
   ]
  },
  {
   "cell_type": "code",
   "execution_count": 4,
   "metadata": {
    "ExecuteTime": {
     "end_time": "2018-01-21T18:50:51.947061Z",
     "start_time": "2018-01-21T18:50:51.943722Z"
    }
   },
   "outputs": [],
   "source": [
    "# a more readable f1_score func\n",
    "def f1_score_alternative(tp, fp, fn):\n",
    "    return (2 * tp)/((2 * tp) + fp + fn)"
   ]
  },
  {
   "cell_type": "code",
   "execution_count": 5,
   "metadata": {
    "ExecuteTime": {
     "end_time": "2018-01-21T18:50:52.050788Z",
     "start_time": "2018-01-21T18:50:51.948938Z"
    }
   },
   "outputs": [
    {
     "data": {
      "text/plain": [
       "True"
      ]
     },
     "execution_count": 5,
     "metadata": {},
     "output_type": "execute_result"
    }
   ],
   "source": [
    "import numpy as np\n",
    "\n",
    "TP = 10\n",
    "FP = 20\n",
    "FN = 30\n",
    "\n",
    "f1 = f1_score(TP, FP, FN)\n",
    "f1_alternative =  f1_score_alternative(TP, FP, FN)\n",
    "\n",
    "# check if the results are close.\n",
    "np.isclose(f1, f1_alternative)"
   ]
  }
 ],
 "metadata": {
  "hide_input": false,
  "kernelspec": {
   "display_name": "Python 3",
   "language": "python",
   "name": "python3"
  },
  "language_info": {
   "codemirror_mode": {
    "name": "ipython",
    "version": 3
   },
   "file_extension": ".py",
   "mimetype": "text/x-python",
   "name": "python",
   "nbconvert_exporter": "python",
   "pygments_lexer": "ipython3",
   "version": "3.6.1"
  }
 },
 "nbformat": 4,
 "nbformat_minor": 2
}
