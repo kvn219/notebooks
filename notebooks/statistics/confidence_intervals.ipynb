{
 "cells": [
  {
   "cell_type": "markdown",
   "metadata": {},
   "source": [
    "# Confidence Intervals "
   ]
  },
  {
   "cell_type": "markdown",
   "metadata": {},
   "source": [
    "A confidence interval is a range of values, derived from sample statistics.\n",
    "\n",
    "> $$[upper\\ and\\ lower\\ bounds] = \\bar{x}\\ \\pm z*\\ \\frac{standard\\ deviation}{\\sqrt{n}}$$\n",
    "\n",
    "__Source:__ [Minitab](http://blog.minitab.com/blog/adventures-in-statistics-2/when-should-i-use-confidence-intervals-prediction-intervals-and-tolerance-intervals)"
   ]
  },
  {
   "cell_type": "markdown",
   "metadata": {
    "ExecuteTime": {
     "end_time": "2018-01-15T14:09:57.203704Z",
     "start_time": "2018-01-15T14:09:57.200947Z"
    }
   },
   "source": [
    "### Code"
   ]
  },
  {
   "cell_type": "code",
   "execution_count": 1,
   "metadata": {
    "ExecuteTime": {
     "end_time": "2018-01-21T18:08:01.440907Z",
     "start_time": "2018-01-21T18:08:00.573576Z"
    }
   },
   "outputs": [],
   "source": [
    "import numpy as np\n",
    "import pandas as pd\n",
    "from scipy import stats"
   ]
  },
  {
   "cell_type": "code",
   "execution_count": 2,
   "metadata": {
    "ExecuteTime": {
     "end_time": "2018-01-21T18:08:01.456106Z",
     "start_time": "2018-01-21T18:08:01.442905Z"
    }
   },
   "outputs": [],
   "source": [
    "def confidence_intervals(n, k, conf_level, one_tailed=False):\n",
    "    prob = k / n\n",
    "    if one_tailed:\n",
    "        se = np.sqrt(prob * (1 - prob))\n",
    "        z = stats.norm.ppf(conf_level)\n",
    "    else:  # two tailed\n",
    "        se = np.sqrt(prob * (1 - prob) / n)\n",
    "        z = stats.norm.ppf((1 + conf_level) / 2)\n",
    "    # calculate lower and upper bounds\n",
    "    lb = prob - (se * z)\n",
    "    ub = prob + (se * z)\n",
    "    return (lb, ub, conf_level, z)"
   ]
  },
  {
   "cell_type": "markdown",
   "metadata": {},
   "source": [
    "### Example of two tailed CIs\n",
    "\n",
    "50 coin tosses and 26 heads. What is the confidence intervals at 90%, 95%, & 98% levels?\n"
   ]
  },
  {
   "cell_type": "code",
   "execution_count": 3,
   "metadata": {
    "ExecuteTime": {
     "end_time": "2018-01-21T18:08:01.462691Z",
     "start_time": "2018-01-21T18:08:01.458219Z"
    }
   },
   "outputs": [],
   "source": [
    "example1 = confidence_intervals(50, 26, .90)\n",
    "example2 = confidence_intervals(50, 26, .95)\n",
    "example3 = confidence_intervals(50, 26, .99)"
   ]
  },
  {
   "cell_type": "code",
   "execution_count": 4,
   "metadata": {
    "ExecuteTime": {
     "end_time": "2018-01-21T18:08:01.485255Z",
     "start_time": "2018-01-21T18:08:01.464918Z"
    }
   },
   "outputs": [
    {
     "data": {
      "text/html": [
       "<div>\n",
       "<style>\n",
       "    .dataframe thead tr:only-child th {\n",
       "        text-align: right;\n",
       "    }\n",
       "\n",
       "    .dataframe thead th {\n",
       "        text-align: left;\n",
       "    }\n",
       "\n",
       "    .dataframe tbody tr th {\n",
       "        vertical-align: top;\n",
       "    }\n",
       "</style>\n",
       "<table border=\"1\" class=\"dataframe\">\n",
       "  <thead>\n",
       "    <tr style=\"text-align: right;\">\n",
       "      <th></th>\n",
       "      <th>lb</th>\n",
       "      <th>ub</th>\n",
       "      <th>conf_level</th>\n",
       "      <th>z</th>\n",
       "    </tr>\n",
       "  </thead>\n",
       "  <tbody>\n",
       "    <tr>\n",
       "      <th>0</th>\n",
       "      <td>0.403784</td>\n",
       "      <td>0.636216</td>\n",
       "      <td>0.90</td>\n",
       "      <td>1.644854</td>\n",
       "    </tr>\n",
       "    <tr>\n",
       "      <th>1</th>\n",
       "      <td>0.381521</td>\n",
       "      <td>0.658479</td>\n",
       "      <td>0.95</td>\n",
       "      <td>1.959964</td>\n",
       "    </tr>\n",
       "    <tr>\n",
       "      <th>2</th>\n",
       "      <td>0.338007</td>\n",
       "      <td>0.701993</td>\n",
       "      <td>0.99</td>\n",
       "      <td>2.575829</td>\n",
       "    </tr>\n",
       "  </tbody>\n",
       "</table>\n",
       "</div>"
      ],
      "text/plain": [
       "         lb        ub  conf_level         z\n",
       "0  0.403784  0.636216        0.90  1.644854\n",
       "1  0.381521  0.658479        0.95  1.959964\n",
       "2  0.338007  0.701993        0.99  2.575829"
      ]
     },
     "execution_count": 4,
     "metadata": {},
     "output_type": "execute_result"
    }
   ],
   "source": [
    "df = pd.DataFrame.from_records(\n",
    "    [example1, example2, example3], columns=['lb', 'ub', 'conf_level', 'z'])\n",
    "\n",
    "df"
   ]
  }
 ],
 "metadata": {
  "hide_input": false,
  "kernelspec": {
   "display_name": "Python 3",
   "language": "python",
   "name": "python3"
  },
  "language_info": {
   "codemirror_mode": {
    "name": "ipython",
    "version": 3
   },
   "file_extension": ".py",
   "mimetype": "text/x-python",
   "name": "python",
   "nbconvert_exporter": "python",
   "pygments_lexer": "ipython3",
   "version": "3.6.1"
  },
  "latex_envs": {
   "LaTeX_envs_menu_present": true,
   "autocomplete": true,
   "bibliofile": "biblio.bib",
   "cite_by": "apalike",
   "current_citInitial": 1,
   "eqLabelWithNumbers": true,
   "eqNumInitial": 1,
   "hotkeys": {
    "equation": "Ctrl-E",
    "itemize": "Ctrl-I"
   },
   "labels_anchors": false,
   "latex_user_defs": false,
   "report_style_numbering": false,
   "user_envs_cfg": false
  }
 },
 "nbformat": 4,
 "nbformat_minor": 2
}
